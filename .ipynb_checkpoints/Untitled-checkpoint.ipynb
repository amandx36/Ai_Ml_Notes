{
 "cells": [
  {
   "cell_type": "code",
   "execution_count": 1,
   "id": "2acb8e63-3ca1-4198-bc4a-9ab25cd8aae2",
   "metadata": {},
   "outputs": [],
   "source": [
    "import numpy as np "
   ]
  },
  {
   "cell_type": "code",
   "execution_count": null,
   "id": "5551e588-fb47-462f-95b0-62f496a838fa",
   "metadata": {},
   "outputs": [],
   "source": []
  },
  {
   "cell_type": "code",
   "execution_count": 2,
   "id": "eb60e4ee-1962-4904-83e5-d4a1b0c2c5ff",
   "metadata": {},
   "outputs": [],
   "source": [
    "output  = np.full((5,5),1)"
   ]
  },
  {
   "cell_type": "raw",
   "id": "0702a8b0-ae54-496d-ae74-c0a039e519b9",
   "metadata": {},
   "source": [
    "print(output)"
   ]
  },
  {
   "cell_type": "raw",
   "id": "bafeff7a-c21a-4310-978d-df8fa5481ddf",
   "metadata": {},
   "source": []
  },
  {
   "cell_type": "code",
   "execution_count": null,
   "id": "c4839b6a-8a31-4cdb-ad53-4eb998003fca",
   "metadata": {},
   "outputs": [],
   "source": []
  },
  {
   "cell_type": "code",
   "execution_count": null,
   "id": "5f7d791a-9077-47f8-8d99-6faad392e0c7",
   "metadata": {},
   "outputs": [],
   "source": []
  }
 ],
 "metadata": {
  "kernelspec": {
   "display_name": "Python 3 (ipykernel)",
   "language": "python",
   "name": "python3"
  },
  "language_info": {
   "codemirror_mode": {
    "name": "ipython",
    "version": 3
   },
   "file_extension": ".py",
   "mimetype": "text/x-python",
   "name": "python",
   "nbconvert_exporter": "python",
   "pygments_lexer": "ipython3",
   "version": "3.11.13"
  }
 },
 "nbformat": 4,
 "nbformat_minor": 5
}
